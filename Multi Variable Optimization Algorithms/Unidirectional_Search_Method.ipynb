{
  "nbformat": 4,
  "nbformat_minor": 0,
  "metadata": {
    "colab": {
      "provenance": []
    },
    "kernelspec": {
      "name": "python3",
      "display_name": "Python 3"
    },
    "language_info": {
      "name": "python"
    }
  },
  "cells": [
    {
      "cell_type": "markdown",
      "source": [
        "# **Importing Libraries**"
      ],
      "metadata": {
        "id": "52S-MVqxpgf1"
      }
    },
    {
      "cell_type": "code",
      "execution_count": 1,
      "metadata": {
        "id": "UIoKc88ppEVP"
      },
      "outputs": [],
      "source": [
        "import numpy as np\n",
        "import matplotlib.pyplot as plt\n",
        "import torch as tch"
      ]
    },
    {
      "cell_type": "markdown",
      "source": [
        "## **Unidirectional Search Method** "
      ],
      "metadata": {
        "id": "wrz0B42DpkHJ"
      }
    },
    {
      "cell_type": "code",
      "source": [
        "from sympy import symbols, Eq, solve\n",
        "from sympy import *\n",
        "\n",
        "class Unidirectional:\n",
        "\n",
        "  def uni_function1(self, t, a, b):\n",
        "    return [(a[0] + t*b[0]),(a[1] + t*b[1]),(a[2] + t*b[2])]\n",
        "\n",
        "  def uni_function2(self,s):\n",
        "    x = s[0]\n",
        "    y = s[1] \n",
        "    z = s[2]\n",
        "    #w = s[3]\n",
        "    return (x*x*x) + (y*y) - (6*x) - (8*y) + (10*z) + 2\n",
        "    \n",
        "  def uni_function3(self,a,b,t_star = []): \n",
        "    x = a[0] + t_star*b[0]\n",
        "    y = a[1] + t_star*b[1]\n",
        "    z = a[2] + t_star*b[2]\n",
        "    #w = a[3] + t_star*b[3]\n",
        "    return x,y,z\n",
        "\n",
        "  def parametric(self, a =[],b =[]):\n",
        "    a = np.array(a)\n",
        "    b = np.array(b)\n",
        "    t = symbols('t')\n",
        "    s = self.uni_function1(t, a, b)\n",
        "    func = self.uni_function2(s)\n",
        "    func1 = diff(func,t)\n",
        "    solved_equ = solve(func1)\n",
        "    print('Critical point',solved_equ)\n",
        "    func2 = diff(func1,t)\n",
        "\n",
        "    if (sympify(func2).is_integer):\n",
        "      print('Hence minimum')\n",
        "      t_star = solved_equ[0]\n",
        "      print('t* is ',t_star)\n",
        "      ans = self.uni_function3(a, b, t_star)\n",
        "      print('The minimum along the given direction is',ans)\n",
        "\n",
        "    else:\n",
        "      [t1,t2] = solved_equ\n",
        "      T = [t1, t2]\n",
        "      for elements in T:\n",
        "        func21 = func2.evalf(subs = {t : elements})\n",
        "        print(float(func21))\n",
        "        if (float(func21)>0):\n",
        "          t_star = elements\n",
        "          func100 = func21\n",
        "        if (float(func100)>0):\n",
        "          print('Hence minimum')\n",
        "          print('t* is ',t_star)\n",
        "          ans = self.uni_function3(a, b, t_star)\n",
        "          print('The minimum along the given direction is',ans)\n",
        "          break"
      ],
      "metadata": {
        "id": "k6Vj11ZKpKr9"
      },
      "execution_count": 20,
      "outputs": []
    },
    {
      "cell_type": "code",
      "source": [
        "uni = Unidirectional()\n",
        "uni.parametric([0,0,0],[-1,1,1])"
      ],
      "metadata": {
        "colab": {
          "base_uri": "https://localhost:8080/"
        },
        "id": "93a7ix5epMM0",
        "outputId": "379b5cd5-e170-4365-eb9a-c157b9efae02"
      },
      "execution_count": 21,
      "outputs": [
        {
          "output_type": "stream",
          "name": "stdout",
          "text": [
            "Critical point [-4/3, 2]\n",
            "10.0\n",
            "Hence minimum\n",
            "t* is  -4/3\n",
            "The minimum along the given direction is (4/3, -4/3, -4/3)\n"
          ]
        }
      ]
    }
  ]
}