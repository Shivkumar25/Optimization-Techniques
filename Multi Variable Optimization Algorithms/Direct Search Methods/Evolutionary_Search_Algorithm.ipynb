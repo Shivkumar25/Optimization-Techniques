{
  "nbformat": 4,
  "nbformat_minor": 0,
  "metadata": {
    "colab": {
      "provenance": []
    },
    "kernelspec": {
      "name": "python3",
      "display_name": "Python 3"
    },
    "language_info": {
      "name": "python"
    }
  },
  "cells": [
    {
      "cell_type": "markdown",
      "source": [
        "# **Importing Libraries**"
      ],
      "metadata": {
        "id": "52S-MVqxpgf1"
      }
    },
    {
      "cell_type": "code",
      "execution_count": 1,
      "metadata": {
        "id": "UIoKc88ppEVP"
      },
      "outputs": [],
      "source": [
        "import numpy as np\n",
        "import matplotlib.pyplot as plt\n",
        "import torch as tch"
      ]
    },
    {
      "cell_type": "markdown",
      "source": [
        "## **Evolutionary Search Algorithm**"
      ],
      "metadata": {
        "id": "wrz0B42DpkHJ"
      }
    },
    {
      "cell_type": "code",
      "source": [
        "class evolution:\n",
        "\n",
        "  def evolve(self,array= []):\n",
        "    x = array[0]\n",
        "    y = array[1]\n",
        "    #z = array[2]\n",
        "    #return (pow((x-2),2) + pow((y-3),2))\n",
        "    #return pow((1.5 - x + (x*y)),2) + pow((2.25 - x + (x*y*y)),2)\n",
        "    #return (pow((x-1),2) + pow((y-2),2))\n",
        "    return 2 + (x*x) + (2*y*y) - (4*x) - (4*y)\n",
        "    \n",
        "  def function(self, e, a = [],delta = []):\n",
        "    delta_arr = np.array(delta)\n",
        "    a_arr = np.array(a) \n",
        "    delta1 = delta_arr/2\n",
        "    norm_delta = np.linalg.norm(delta1)\n",
        "    x0 = a_arr\n",
        "    i = 0\n",
        "    while (i<=100):                                                             # Change i to a large value when e is given\n",
        "      if (len(a)==2):\n",
        "        f0 = self.evolve(x0)\n",
        "        x1 = x0 + delta1\n",
        "        f1 = self.evolve(x1)\n",
        "        x2 = x0 + [delta1[0], -delta1[1]]\n",
        "        f2 = self.evolve(x2)\n",
        "        x3 = x0 + [-delta1[0], delta1[1]]\n",
        "        f3 = self.evolve(x3)\n",
        "        x4 = x0 - delta1\n",
        "        f4 = self.evolve(x4)\n",
        "        fmin = min(f0, f1, f2, f3, f4)\n",
        "        thisdict =\t{\n",
        "          f0: x0,\n",
        "          f1: x1,\n",
        "          f2: x2,\n",
        "          f3: x3,\n",
        "          f4: x4\n",
        "        }\n",
        "        xbar = thisdict[fmin]\n",
        "        if ((xbar[0]==x0[0]) and (xbar[1]==x0[1])):\n",
        "          if (i>6):                                                     # When e (termination parameter) value is given ----> norm_delta<e\n",
        "            print('The minimum is at',xbar)\n",
        "            break\n",
        "          else:\n",
        "            delta1 = (delta1)/2\n",
        "            norm_delta = np.linalg.norm(delta1)\n",
        "        else:\n",
        "          x0 = xbar\n",
        "\n",
        "      elif (len(a)==3):\n",
        "        f0 = self.evolve(x0)\n",
        "        x1 = x0 + delta1\n",
        "        f1 = self.evolve(x1)\n",
        "        x2 = x0 + [delta1[0], delta1[1], -delta1[2]]\n",
        "        f2 = self.evolve(x2)\n",
        "        x3 = x0 + [delta1[0], -delta1[1], delta1[2]]\n",
        "        f3 = self.evolve(x3)\n",
        "        x4 = x0 + [delta1[0], -delta1[1], -delta1[2]]\n",
        "        f4 = self.evolve(x4)\n",
        "        x5 = x0 + [-delta1[0], delta1[1], delta1[2]]\n",
        "        f5 = self.evolve(x5)\n",
        "        x6 = x0 + [-delta1[0], delta1[1], -delta1[2]]\n",
        "        f6 = self.evolve(x6)\n",
        "        x7 = x0 + [-delta1[0], -delta1[1], delta1[2]]\n",
        "        f7 = self.evolve(x7)\n",
        "        x8 = x0 - delta1\n",
        "        f8 = self.evolve(x8)\n",
        "        fmin = min(f0, f1, f2, f3, f4)\n",
        "        thisdict =\t{\n",
        "          f0: x0,\n",
        "          f1: x1,\n",
        "          f2: x2,\n",
        "          f3: x3,\n",
        "          f4: x4\n",
        "        }\n",
        "        xbar = thisdict[fmin]\n",
        "        if ((xbar[0]==x0[0]) and (xbar[1]==x0[1]) and (xbar[2]==x0[2])):\n",
        "        \n",
        "          if (norm_delta<e):\n",
        "            print('The minimum is at',xbar)\n",
        "            break\n",
        "          else:\n",
        "            delta1 = (delta1)/2\n",
        "            norm_delta = np.linalg.norm(delta1)\n",
        "        else:\n",
        "          x0 = xbar\n",
        "      i+=1"
      ],
      "metadata": {
        "id": "k6Vj11ZKpKr9"
      },
      "execution_count": 22,
      "outputs": []
    },
    {
      "cell_type": "code",
      "source": [
        "eval = evolution()\n",
        "eval.function(0,[2,2],[1,1])"
      ],
      "metadata": {
        "colab": {
          "base_uri": "https://localhost:8080/"
        },
        "id": "93a7ix5epMM0",
        "outputId": "a03bef48-0b92-4237-abf2-a8a397074396"
      },
      "execution_count": 23,
      "outputs": [
        {
          "output_type": "stream",
          "name": "stdout",
          "text": [
            "The minimum is at [2. 1.]\n"
          ]
        }
      ]
    }
  ]
}