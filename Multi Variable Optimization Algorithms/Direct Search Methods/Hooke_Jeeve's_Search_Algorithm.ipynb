{
  "nbformat": 4,
  "nbformat_minor": 0,
  "metadata": {
    "colab": {
      "provenance": []
    },
    "kernelspec": {
      "name": "python3",
      "display_name": "Python 3"
    },
    "language_info": {
      "name": "python"
    }
  },
  "cells": [
    {
      "cell_type": "markdown",
      "source": [
        "# **Importing Libraries**"
      ],
      "metadata": {
        "id": "52S-MVqxpgf1"
      }
    },
    {
      "cell_type": "code",
      "execution_count": 1,
      "metadata": {
        "id": "UIoKc88ppEVP"
      },
      "outputs": [],
      "source": [
        "import numpy as np\n",
        "import matplotlib.pyplot as plt\n",
        "import torch as tch"
      ]
    },
    {
      "cell_type": "markdown",
      "source": [
        "## **Hooke Jeeve's Search Algorithm**"
      ],
      "metadata": {
        "id": "wrz0B42DpkHJ"
      }
    },
    {
      "cell_type": "markdown",
      "source": [
        "### **With Termination Parameter**"
      ],
      "metadata": {
        "id": "NvMIcNHRwI-D"
      }
    },
    {
      "cell_type": "code",
      "source": [
        "class Hooke_Jeeves:\n",
        "\n",
        "  def function(self, array = []):\n",
        "    x = array[0]\n",
        "    y = array[1]\n",
        "    #z = array[2]                                                                                  #For R3\n",
        "    #return (10 - (np.sqrt(x)*np.sin(x)) - (np.sqrt(y)*np.sin(y)) - (np.sqrt(z)*np.sin(z)))\n",
        "    return (((x-1)*(x-1))+((y-2)*(y-2)))\n",
        "    #return np.exp(pow((x-0.2),2)/2) + (4*y*y) + np.sin(y)\n",
        "    #return pow(((x*x)+y-11),2) + pow((x+(y*y)-7),2)\n",
        "  def prediction_hooke(self, e, x_list = [], delta_list = []):\n",
        "    delta = np.array(delta_list)\n",
        "    x = np.array(x_list)\n",
        "    i = 0\n",
        "    while (i<=100):\n",
        "      if (len(x)==2):\n",
        "        x1 = x\n",
        "        fx1 = self.function(x1)\n",
        "        x2 = x+(delta[0],0)\n",
        "        fx2 = self.function(x2)\n",
        "        x3 = x+(-delta[0],0)\n",
        "        fx3 = self.function(x3)\n",
        "\n",
        "        fminx = min(fx1, fx2, fx3)\n",
        "        thisdict =\t{\n",
        "          fx1: x1,\n",
        "          fx2: x2,\n",
        "          fx3: x3,\n",
        "        }\n",
        "        xminx = thisdict[fminx]\n",
        "\n",
        "        y1 = xminx\n",
        "        fy1 = self.function(y1)\n",
        "        y2 = xminx+(0,delta[1])\n",
        "        fy2 = self.function(y2)\n",
        "        y3 = xminx+(0,-delta[1])\n",
        "        fy3 = self.function(y3)\n",
        "\n",
        "        fminy = min(fy1, fy2, fy3)\n",
        "        thisdict =\t{\n",
        "          fy1: y1,\n",
        "          fy2: y2,\n",
        "          fy3: y3,\n",
        "        }\n",
        "        #print(thisdict)\n",
        "        xminy = thisdict[fminy]\n",
        "\n",
        "        if (i==0):\n",
        "          if ((xminy[0]==x[0]) and (xminy[1]==x[1])):\n",
        "            if (np.linalg.norm(delta)<e):\n",
        "              print('The minimum is',xminy)\n",
        "              break\n",
        "            else:\n",
        "              delta = delta/2\n",
        "          else:\n",
        "            x = 2*xminy - x         \n",
        "        else:\n",
        "          if ((xminy[0]==x[0]) and (xminy[1]==x[1])):\n",
        "            if (np.linalg.norm(delta)<e):\n",
        "              print('The minimum is',xminy)\n",
        "              break\n",
        "            else:\n",
        "              delta = delta/2\n",
        "          else:\n",
        "            if ((self.function(xminy))<(self.function(x))):\n",
        "              x = 2*xminy - x         \n",
        "            else:\n",
        "              if (np.linalg.norm(delta)>e):\n",
        "                delta = delta/2\n",
        "              else:\n",
        "                print('The minimum is',xminy)\n",
        "                break             \n",
        "\n",
        "      elif (len(x)==3):\n",
        "        x1 = x\n",
        "        fx1 = self.function(x1)\n",
        "        x2 = x+(delta[0],0,0)\n",
        "        fx2 = self.function(x2)\n",
        "        x3 = x+(-delta[0],0,0)\n",
        "        fx3 = self.function(x3)\n",
        "\n",
        "        fminx = min(fx1, fx2, fx3)\n",
        "        thisdict =\t{\n",
        "          fx1: x1,\n",
        "          fx2: x2,\n",
        "          fx3: x3,\n",
        "        }\n",
        "        xminx = thisdict[fminx]\n",
        "\n",
        "        y1 = xminx\n",
        "        fy1 = self.function(y1)\n",
        "        y2 = xminx+(0,delta[1],0)\n",
        "        fy2 = self.function(y2)\n",
        "        y3 = xminx+(0,-delta[1],0)\n",
        "        fy3 = self.function(y3)\n",
        "\n",
        "        fminy = min(fy1, fy2, fy3)\n",
        "        thisdict =\t{\n",
        "          fy1: y1,\n",
        "          fy2: y2,\n",
        "          fy3: y3,\n",
        "        }\n",
        "        xminy = thisdict[fminy]\n",
        "\n",
        "        z1 = xminy\n",
        "        fz1 = self.function(z1)\n",
        "        z2 = xminy+(0,delta[1],0)\n",
        "        fz2 = self.function(z2)\n",
        "        z3 = xminy+(0,-delta[1],0)\n",
        "        fz3 = self.function(z3)\n",
        "\n",
        "        fminz = min(fz1, fz2, fz3)\n",
        "        thisdict =\t{\n",
        "          fz1: z1,\n",
        "          fz2: z2,\n",
        "          fz3: z3,\n",
        "        }\n",
        "        #print(thisdict)\n",
        "        xminz = thisdict[fminz]\n",
        "        print('xminz',xminz)\n",
        "\n",
        "        if (i==0):\n",
        "          if ((xminz[0]==x[0]) and (xminz[1]==x[1]) and (xminz[2]==x[2])):\n",
        "            if (np.linalg.norm(delta)<e):\n",
        "              print('The minimum is',xminz)\n",
        "              break\n",
        "            else:\n",
        "              delta = delta/2\n",
        "          else:\n",
        "            x = 2*xminz - x         \n",
        "        else:\n",
        "          if ((xminz[0]==x[0]) and (xminz[1]==x[1]) and (xminz[2]==x[2])):\n",
        "            if (np.linalg.norm(delta)<e):\n",
        "              print('The minimum is',xminz)\n",
        "              break\n",
        "            else:\n",
        "              delta = delta/2\n",
        "          else:\n",
        "            if ((self.function(xminz))<(self.function(x))):\n",
        "              x = 2*xminz - x         \n",
        "            else:\n",
        "              if (np.linalg.norm(delta)>e):\n",
        "                delta = delta/2\n",
        "              else:\n",
        "                print('The minimum is',xminz)\n",
        "                break             \n",
        "      i += 1"
      ],
      "metadata": {
        "id": "REUrCgqEwJr7"
      },
      "execution_count": 24,
      "outputs": []
    },
    {
      "cell_type": "code",
      "source": [
        "hook = Hooke_Jeeves()\n",
        "hook.prediction_hooke(0.5,[0,0],[0.5,0.5])"
      ],
      "metadata": {
        "colab": {
          "base_uri": "https://localhost:8080/"
        },
        "id": "k6Vj11ZKpKr9",
        "outputId": "81c0caf7-607c-4523-b613-52b65c7979c7"
      },
      "execution_count": 25,
      "outputs": [
        {
          "output_type": "stream",
          "name": "stdout",
          "text": [
            "The minimum is [1. 2.]\n"
          ]
        }
      ]
    },
    {
      "cell_type": "markdown",
      "source": [
        "### **With Iteration**"
      ],
      "metadata": {
        "id": "QtuUzYh8wPcy"
      }
    },
    {
      "cell_type": "code",
      "source": [
        "class Hooke_Jeeves_iter:\n",
        "\n",
        "  def function(self, array = []):\n",
        "    x = array[0]\n",
        "    y = array[1]\n",
        "    #z = array[2]                                                                                  #For R3\n",
        "    #return (10 - (np.sqrt(x)*np.sin(x)) - (np.sqrt(y)*np.sin(y)) - (np.sqrt(z)*np.sin(z)))\n",
        "    #return (((x-1)*(x-1))+((y-2)*(y-2)))\n",
        "    return np.exp(pow((x-0.2),2)/2) + (4*y*y) + np.sin(y)\n",
        "    #return pow(((x*x)+y-11),2) + pow((x+(y*y)-7),2)\n",
        "  def prediction_hooke(self, e, x_list = [], delta_list = []):\n",
        "    delta = np.array(delta_list)\n",
        "    x = np.array(x_list)\n",
        "    i = 0\n",
        "    while (i<=100):\n",
        "      if (len(x)==2):\n",
        "        x1 = x\n",
        "        fx1 = self.function(x1)\n",
        "        x2 = x+(delta[0],0)\n",
        "        fx2 = self.function(x2)\n",
        "        x3 = x+(-delta[0],0)\n",
        "        fx3 = self.function(x3)\n",
        "\n",
        "        fminx = min(fx1, fx2, fx3)\n",
        "        thisdict =\t{\n",
        "          fx1: x1,\n",
        "          fx2: x2,\n",
        "          fx3: x3,\n",
        "        }\n",
        "        xminx = thisdict[fminx]\n",
        "\n",
        "        y1 = xminx\n",
        "        fy1 = self.function(y1)\n",
        "        y2 = xminx+(0,delta[1])\n",
        "        fy2 = self.function(y2)\n",
        "        y3 = xminx+(0,-delta[1])\n",
        "        fy3 = self.function(y3)\n",
        "\n",
        "        fminy = min(fy1, fy2, fy3)\n",
        "        thisdict =\t{\n",
        "          fy1: y1,\n",
        "          fy2: y2,\n",
        "          fy3: y3,\n",
        "        }\n",
        "        #print(thisdict)\n",
        "        xminy = thisdict[fminy]\n",
        "\n",
        "        if ((xminy[0]!=x[0]) and (xminy[1]!=x[1])):\n",
        "          x = 2*xminy - x    \n",
        "        else:\n",
        "          delta = delta/2\n",
        "        \n",
        "        if (i>1):\n",
        "          print('The minimum point is ',xminy)\n",
        "          break\n",
        "\n",
        "      elif (len(x)==3):\n",
        "        x1 = x\n",
        "        fx1 = self.function(x1)\n",
        "        x2 = x+(delta[0],0,0)\n",
        "        fx2 = self.function(x2)\n",
        "        x3 = x+(-delta[0],0,0)\n",
        "        fx3 = self.function(x3)\n",
        "\n",
        "        fminx = min(fx1, fx2, fx3)\n",
        "        thisdict =\t{\n",
        "          fx1: x1,\n",
        "          fx2: x2,\n",
        "          fx3: x3,\n",
        "        }\n",
        "        xminx = thisdict[fminx]\n",
        "        print(thisdict)\n",
        "\n",
        "        y1 = xminx\n",
        "        fy1 = self.function(y1)\n",
        "        y2 = xminx+(0,delta[1],0)\n",
        "        fy2 = self.function(y2)\n",
        "        y3 = xminx+(0,-delta[1],0)\n",
        "        fy3 = self.function(y3)\n",
        "\n",
        "        fminy = min(fy1, fy2, fy3)\n",
        "        thisdict =\t{\n",
        "          fy1: y1,\n",
        "          fy2: y2,\n",
        "          fy3: y3,\n",
        "        }\n",
        "        xminy = thisdict[fminy]\n",
        "\n",
        "        z1 = xminy\n",
        "        fz1 = self.function(z1)\n",
        "        z2 = xminy+(0,delta[1],0)\n",
        "        fz2 = self.function(z2)\n",
        "        z3 = xminy+(0,-delta[1],0)\n",
        "        fz3 = self.function(z3)\n",
        "\n",
        "        fminz = min(fz1, fz2, fz3)\n",
        "        thisdict =\t{\n",
        "          fz1: z1,\n",
        "          fz2: z2,\n",
        "          fz3: z3,\n",
        "        }\n",
        "        print(thisdict)\n",
        "        xminz = thisdict[fminz]\n",
        "        print('xminz',xminz)\n",
        "\n",
        "        if ((xminz[0]!=x[0]) and (xminz[1]!=x[1]) and (xminz[2]!=x[2])):\n",
        "          x = 2*xminz - x    \n",
        "        else:\n",
        "          delta = delta/2\n",
        "        \n",
        "        if (i>1):\n",
        "          print('The minimum point is ',xminz)\n",
        "          break\n",
        "      i += 1"
      ],
      "metadata": {
        "id": "Wo5Cz7n4wP-A"
      },
      "execution_count": 26,
      "outputs": []
    },
    {
      "cell_type": "code",
      "source": [
        "hook = Hooke_Jeeves_iter()\n",
        "hook.prediction_hooke(0,[1,1],[0.5,0.5])"
      ],
      "metadata": {
        "colab": {
          "base_uri": "https://localhost:8080/"
        },
        "id": "CYQsCygvwSgr",
        "outputId": "fcae7d35-d94b-42a5-c96d-8404a46f5eb4"
      },
      "execution_count": 27,
      "outputs": [
        {
          "output_type": "stream",
          "name": "stdout",
          "text": [
            "The minimum point is  [0.25 0.  ]\n"
          ]
        }
      ]
    }
  ]
}