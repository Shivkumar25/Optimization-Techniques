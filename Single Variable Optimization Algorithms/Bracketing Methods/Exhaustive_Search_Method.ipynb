{
  "nbformat": 4,
  "nbformat_minor": 0,
  "metadata": {
    "colab": {
      "provenance": []
    },
    "kernelspec": {
      "name": "python3",
      "display_name": "Python 3"
    },
    "language_info": {
      "name": "python"
    }
  },
  "cells": [
    {
      "cell_type": "markdown",
      "source": [
        "# **Importing Libraries**"
      ],
      "metadata": {
        "id": "52S-MVqxpgf1"
      }
    },
    {
      "cell_type": "code",
      "execution_count": 1,
      "metadata": {
        "id": "UIoKc88ppEVP"
      },
      "outputs": [],
      "source": [
        "import numpy as np\n",
        "import matplotlib.pyplot as plt\n",
        "import torch as tch"
      ]
    },
    {
      "cell_type": "markdown",
      "source": [
        "## **Exhaustive Search Method**"
      ],
      "metadata": {
        "id": "wrz0B42DpkHJ"
      }
    },
    {
      "cell_type": "code",
      "source": [
        "class ExhaustiveSearch:\n",
        "\n",
        "  def exhaustive_function(self, x):\n",
        "    y = (10) - ((np.sqrt(x))*(np.sin(x)))\n",
        "    #y = (x*x) + 54/x\n",
        "    return y\n",
        "\n",
        "  def exhaustive_prediction(self, a, b, n):\n",
        "    range = np.arange(a, b+1)\n",
        "    dx = (range[-1] - range[0])/n\n",
        "    for elements in range:\n",
        "      x1 = range[0]\n",
        "      x2 = x1 + dx\n",
        "      x3 = x2 + dx\n",
        "\n",
        "    while (x3<=range[-1]):\n",
        "      y1 = self.exhaustive_function(x1)\n",
        "      y2 = self.exhaustive_function(x2)\n",
        "      y3 = self.exhaustive_function(x3)\n",
        "      if y1>=y2 and y2<=y3:\n",
        "        print('The Predicted Optimal or Minimum value is in the interval: ')\n",
        "        print(x1,',', x3)\n",
        "        break\n",
        "      else:\n",
        "        x1 = x2\n",
        "        x2 = x3\n",
        "        x3 = x2 + dx\n",
        "\n",
        "    plt.plot(range, self.exhaustive_function(range))\n",
        "    plt.xlabel('x ---->')\n",
        "    plt.ylabel('f(x) ---->')\n",
        "    plt.show()"
      ],
      "metadata": {
        "id": "k6Vj11ZKpKr9"
      },
      "execution_count": 2,
      "outputs": []
    },
    {
      "cell_type": "code",
      "source": [
        "ex = ExhaustiveSearch()\n",
        "ex.exhaustive_prediction(6, 10, 10)"
      ],
      "metadata": {
        "colab": {
          "base_uri": "https://localhost:8080/",
          "height": 314
        },
        "id": "93a7ix5epMM0",
        "outputId": "506777d0-beaf-4e78-f57b-3c80b275f818"
      },
      "execution_count": 3,
      "outputs": [
        {
          "output_type": "stream",
          "name": "stdout",
          "text": [
            "The Predicted Optimal or Minimum value is in the interval: \n",
            "7.600000000000001 , 8.400000000000002\n"
          ]
        },
        {
          "output_type": "display_data",
          "data": {
            "text/plain": [
              "<Figure size 432x288 with 1 Axes>"
            ],
            "image/png": "[encoded data removed]"
          },
          "metadata": {
            "needs_background": "light"
          }
        }
      ]
    }
  ]
}