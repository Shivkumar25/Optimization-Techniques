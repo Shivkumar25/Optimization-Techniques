{
  "nbformat": 4,
  "nbformat_minor": 0,
  "metadata": {
    "colab": {
      "provenance": []
    },
    "kernelspec": {
      "name": "python3",
      "display_name": "Python 3"
    },
    "language_info": {
      "name": "python"
    }
  },
  "cells": [
    {
      "cell_type": "markdown",
      "source": [
        "# **Importing Libraries**"
      ],
      "metadata": {
        "id": "52S-MVqxpgf1"
      }
    },
    {
      "cell_type": "code",
      "execution_count": 1,
      "metadata": {
        "id": "UIoKc88ppEVP"
      },
      "outputs": [],
      "source": [
        "import numpy as np\n",
        "import matplotlib.pyplot as plt\n",
        "import torch as tch"
      ]
    },
    {
      "cell_type": "markdown",
      "source": [
        "## **Bounding Phase Method**"
      ],
      "metadata": {
        "id": "wrz0B42DpkHJ"
      }
    },
    {
      "cell_type": "code",
      "source": [
        "class BoundingPhase:\n",
        "\n",
        "  def function_bound(self, x):\n",
        "    return (x*x) + 54/x\n",
        "    #return (np.sin(2*x)) + (x*x) + (21)\n",
        "    #return 10 + (3*np.exp((0.5*x*x) - (0.2*x) + (0.02)))\n",
        "\n",
        "  def prediction_bound(self, x_in, k, delta):\n",
        "    x1 = x_in - delta\n",
        "    x2 = x_in\n",
        "    x3 = x_in + delta\n",
        "\n",
        "    y1 = self.function_bound(x1)\n",
        "    y2 = self.function_bound(x2)\n",
        "    y3 = self.function_bound(x3)\n",
        "\n",
        "    if ((y1>=y2) and (y2>=y3)):\n",
        "      incr_x = abs(delta)\n",
        "    elif ((y1<=y2) and (y2<=y3)):\n",
        "      incr_x = -abs(delta)\n",
        "    elif ((y1>=y2) and (y2<=y3)):\n",
        "      print('The predicted minimum is in the interval:',x1,',',x3)\n",
        "\n",
        "    x0 = x_in\n",
        "    while (x3<=1000):\n",
        "      x1 = x0 + pow(2,k)*incr_x\n",
        "      y1 = self.function_bound(x1)\n",
        "      y0 = self.function_bound(x0)\n",
        "      if (y0<y1):\n",
        "        print('The predicted minimum is in the interval:',x_temp,',',x1)\n",
        "        break\n",
        "      else:\n",
        "        k += 1\n",
        "        x_temp = x0\n",
        "        y_temp = self.function_bound(x_temp)\n",
        "        x0 = x1\n",
        "    plt.plot(x1,y1,'*')\n",
        "    plt.plot(x0,y0,'*')\n",
        "    plt.plot(x_temp,y_temp,'*')\n",
        "    plt.xlabel('x ---->')\n",
        "    plt.ylabel('f(x) ---->')\n",
        "    plt.show()"
      ],
      "metadata": {
        "id": "k6Vj11ZKpKr9"
      },
      "execution_count": 4,
      "outputs": []
    },
    {
      "cell_type": "code",
      "source": [
        "bp = BoundingPhase()\n",
        "bp.prediction_bound(0.6, 0, 0.5)   # k initialize to 0"
      ],
      "metadata": {
        "colab": {
          "base_uri": "https://localhost:8080/",
          "height": 296
        },
        "id": "93a7ix5epMM0",
        "outputId": "1bf1684e-0bfc-4194-ee49-4d84d13292ce"
      },
      "execution_count": 5,
      "outputs": [
        {
          "output_type": "stream",
          "name": "stdout",
          "text": [
            "The predicted minimum is in the interval: 2.1 , 8.1\n"
          ]
        },
        {
          "output_type": "display_data",
          "data": {
            "text/plain": [
              "<Figure size 432x288 with 1 Axes>"
            ],
            "image/png": "[encoded data removed]"
          },
          "metadata": {
            "needs_background": "light"
          }
        }
      ]
    }
  ]
}