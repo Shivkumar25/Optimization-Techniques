{
  "nbformat": 4,
  "nbformat_minor": 0,
  "metadata": {
    "colab": {
      "provenance": []
    },
    "kernelspec": {
      "name": "python3",
      "display_name": "Python 3"
    },
    "language_info": {
      "name": "python"
    }
  },
  "cells": [
    {
      "cell_type": "markdown",
      "source": [
        "# **Importing Libraries**"
      ],
      "metadata": {
        "id": "52S-MVqxpgf1"
      }
    },
    {
      "cell_type": "code",
      "execution_count": 1,
      "metadata": {
        "id": "UIoKc88ppEVP"
      },
      "outputs": [],
      "source": [
        "import numpy as np\n",
        "import matplotlib.pyplot as plt\n",
        "import torch as tch"
      ]
    },
    {
      "cell_type": "markdown",
      "source": [
        "## **Bisection Method**"
      ],
      "metadata": {
        "id": "wrz0B42DpkHJ"
      }
    },
    {
      "cell_type": "code",
      "source": [
        "class BisectionMethod:\n",
        "  \n",
        "  def bisection_function(self, x):\n",
        "    y = (x*x) + 54/x\n",
        "    #y = pow(x,4)+(10*x*x) + x - np.exp(0.2*x)\n",
        "    return y\n",
        "\n",
        "  def constraint(self, s):\n",
        "    if (s<-0.01):\n",
        "      return -0.01*abs(s)\n",
        "    elif (s>0.01):\n",
        "      return 0.01*abs(s)\n",
        "    else:\n",
        "      return 0.0001\n",
        "\n",
        "  def deravative(self, q):\n",
        "    return ((self.bisection_function(q + self.constraint(q)))-(self.bisection_function(q - self.constraint(q))))/(2*self.constraint((q)))\n",
        "\n",
        "  def bisection_prediction(self, a, b, e, iter=0):\n",
        "    range = np.arange(a, b+1)\n",
        "    a1 = self.deravative(a)\n",
        "    b1 = self.deravative(b)\n",
        "    z = (a+b)/2\n",
        "    z_temp = z\n",
        "    if (a1<0 and b1>0):\n",
        "      t = 0\n",
        "      while (t<=10):\n",
        "        z = (a+b)/2\n",
        "        z1 = self.deravative(z)\n",
        "        if (iter==1):\n",
        "          z = (z+z_temp)/2\n",
        "          print('The predicited minimum value is:',z)\n",
        "          break\n",
        "        elif (abs(z1)<e):\n",
        "          print('The predicted minimum value is at:',z)\n",
        "          break\n",
        "        elif (z1<0):\n",
        "          a = z\n",
        "        elif (z1>0):\n",
        "          b = z\n",
        "        t+=1\n",
        "        iter-=1\n",
        "    plt.plot(range, self.bisection_function(range))\n",
        "    plt.xlabel('x ---->')\n",
        "    plt.ylabel('f(x) ---->')\n",
        "    plt.show()"
      ],
      "metadata": {
        "id": "k6Vj11ZKpKr9"
      },
      "execution_count": 14,
      "outputs": []
    },
    {
      "cell_type": "code",
      "source": [
        "BS = BisectionMethod()\n",
        "BS.bisection_prediction(2, 5, 0.5, 0)"
      ],
      "metadata": {
        "colab": {
          "base_uri": "https://localhost:8080/",
          "height": 296
        },
        "id": "93a7ix5epMM0",
        "outputId": "eaa2aafe-a1bc-4e01-a122-576a9ed1ca8b"
      },
      "execution_count": 15,
      "outputs": [
        {
          "output_type": "stream",
          "name": "stdout",
          "text": [
            "The predicted minimum value is at: 2.9375\n"
          ]
        },
        {
          "output_type": "display_data",
          "data": {
            "text/plain": [
              "<Figure size 432x288 with 1 Axes>"
            ],
            "image/png": "[encoded data removed]"
          },
          "metadata": {
            "needs_background": "light"
          }
        }
      ]
    }
  ]
}