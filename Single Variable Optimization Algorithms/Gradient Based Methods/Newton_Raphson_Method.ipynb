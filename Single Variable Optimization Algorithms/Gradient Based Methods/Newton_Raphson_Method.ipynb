{
  "nbformat": 4,
  "nbformat_minor": 0,
  "metadata": {
    "colab": {
      "provenance": []
    },
    "kernelspec": {
      "name": "python3",
      "display_name": "Python 3"
    },
    "language_info": {
      "name": "python"
    }
  },
  "cells": [
    {
      "cell_type": "markdown",
      "source": [
        "# **Importing Libraries**"
      ],
      "metadata": {
        "id": "52S-MVqxpgf1"
      }
    },
    {
      "cell_type": "code",
      "execution_count": 1,
      "metadata": {
        "id": "UIoKc88ppEVP"
      },
      "outputs": [],
      "source": [
        "import numpy as np\n",
        "import matplotlib.pyplot as plt\n",
        "import torch as tch"
      ]
    },
    {
      "cell_type": "markdown",
      "source": [
        "## **Newton Raphson Method**"
      ],
      "metadata": {
        "id": "wrz0B42DpkHJ"
      }
    },
    {
      "cell_type": "code",
      "source": [
        "class NewtonRaphsonMethod:\n",
        "\n",
        "  def newton_function(self, x):\n",
        "    #y = (0.5*pow(x,3)) - (1.75*(pow(x,2))) + (2*x) - 9\n",
        "    #y = (x*x) + 54/x\n",
        "    y = (2*x) - (1.75*x*x) + (1.1*x*x*x) - (0.25*x*x*x*x) \n",
        "    return y\n",
        "\n",
        "  def newton_constraint(self, s):\n",
        "    if (s<-0.01):\n",
        "      return -0.01*abs(s)\n",
        "    elif (s>0.01):\n",
        "      return 0.01*abs(s)\n",
        "    else:\n",
        "      return 0.0001\n",
        "\n",
        "  def first_deravative(self, q):\n",
        "    return ((self.newton_function(q + self.newton_constraint(q)))-(self.newton_function(q - self.newton_constraint(q))))/(2*self.newton_constraint((q)))\n",
        "  \n",
        "  def second_deravative(self, q):\n",
        "    return ((self.newton_function(q + self.newton_constraint(q)))-(2*(self.newton_function(q)))+(self.newton_function(q - self.newton_constraint(q))))/(self.newton_constraint(q)*self.newton_constraint(q))\n",
        "  \n",
        "  def newton_prediction(self, x, e, iter=0):\n",
        "    t = 0\n",
        "    k = 0\n",
        "    while (t<=10):\n",
        "      x1 = self.first_deravative(x)\n",
        "      x2 = self.second_deravative(x)\n",
        "      x_1 = x - ((x1)/(x2))\n",
        "      x_11 = self.first_deravative(x_1)\n",
        "      if (iter==1):\n",
        "        print('The predicted minimum is at:',x_1)\n",
        "        break\n",
        "      elif (abs(x_11)<e):\n",
        "        print('The predicted minimum is at:',x_1)\n",
        "        break\n",
        "      else:  \n",
        "        x = x_1\n",
        "        k +=1 \n",
        "      t +=1\n",
        "      iter -= 1"
      ],
      "metadata": {
        "id": "k6Vj11ZKpKr9"
      },
      "execution_count": 18,
      "outputs": []
    },
    {
      "cell_type": "code",
      "source": [
        "NR = NewtonRaphsonMethod()\n",
        "NR.newton_prediction(-3, 0.01, 0)"
      ],
      "metadata": {
        "colab": {
          "base_uri": "https://localhost:8080/"
        },
        "id": "93a7ix5epMM0",
        "outputId": "fd8fec4b-8a14-4c6a-8cf4-bc8d91ada82e"
      },
      "execution_count": 19,
      "outputs": [
        {
          "output_type": "stream",
          "name": "stdout",
          "text": [
            "The predicted minimum is at: 2.079237522821682\n"
          ]
        }
      ]
    }
  ]
}