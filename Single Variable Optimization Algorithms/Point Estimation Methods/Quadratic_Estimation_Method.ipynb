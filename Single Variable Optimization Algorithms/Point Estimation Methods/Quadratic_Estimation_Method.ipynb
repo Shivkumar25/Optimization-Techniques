{
  "nbformat": 4,
  "nbformat_minor": 0,
  "metadata": {
    "colab": {
      "provenance": []
    },
    "kernelspec": {
      "name": "python3",
      "display_name": "Python 3"
    },
    "language_info": {
      "name": "python"
    }
  },
  "cells": [
    {
      "cell_type": "markdown",
      "source": [
        "# **Importing Libraries**"
      ],
      "metadata": {
        "id": "52S-MVqxpgf1"
      }
    },
    {
      "cell_type": "code",
      "execution_count": 1,
      "metadata": {
        "id": "UIoKc88ppEVP"
      },
      "outputs": [],
      "source": [
        "import numpy as np\n",
        "import matplotlib.pyplot as plt\n",
        "import torch as tch"
      ]
    },
    {
      "cell_type": "markdown",
      "source": [
        "## **Quadratic Estimation Method**"
      ],
      "metadata": {
        "id": "wrz0B42DpkHJ"
      }
    },
    {
      "cell_type": "code",
      "source": [
        "class QuadraticEstimation:\n",
        "\n",
        "  def quadratic_function(self, x):\n",
        "    #y = (pow(x,5))-(5*pow(x,3)) - (20*x) + 5\n",
        "    y = (x*x) + (54/x)\n",
        "    #y = ((x*x*x)*np.sin(2*x)) + x\n",
        "    #y = (2*x*x) + (16/x)\n",
        "    return y\n",
        "  \n",
        "  def quadratic_prediction(self, x1, delta, e, iter=0):\n",
        "    x2 = x1 + delta\n",
        "    y1 = self.quadratic_function(x1)\n",
        "    y2 = self.quadratic_function(x2)\n",
        "    if (y1>=y2):\n",
        "      x3 = x1 + (2*delta)\n",
        "    else:\n",
        "      x3 = x1 - delta\n",
        "      \n",
        "    y3 = self.quadratic_function(x3)\n",
        "    t = 0\n",
        "    while (t<=100):\n",
        "      Ymin = min(y1, y2, y3)\n",
        "      Xmin = max(x1, x2, x3)\n",
        "\n",
        "      a0 = y1\n",
        "      a1 = ((y2-y1)/(x2-x1))\n",
        "      a2 = (1/(x3 - x2))*(((y3-y1)/(x3-x1))-((y2-y1)/(x2-x1)))\n",
        "\n",
        "      xbar = ((x1+x2)/2)-((a1)/(2*a2))\n",
        "      ybar = self.quadratic_function(xbar)\n",
        "      if (iter==1):\n",
        "        print('The predicited minimum value is:',xbar)\n",
        "        break\n",
        "      if ((abs(Ymin-ybar)<e) and (abs(Xmin-xbar)<e)):\n",
        "        print('The predicited minimum value is:',x1)\n",
        "        break\n",
        "      else:\n",
        "        x1 = x2\n",
        "        x2 = x3\n",
        "        x3 = xbar\n",
        "        y1 = self.quadratic_function(x1)\n",
        "        y2 = self.quadratic_function(x2)\n",
        "        y3 = self.quadratic_function(x3)\n",
        "      t += 1\n",
        "      iter -= 1"
      ],
      "metadata": {
        "id": "k6Vj11ZKpKr9"
      },
      "execution_count": 12,
      "outputs": []
    },
    {
      "cell_type": "code",
      "source": [
        "QE = QuadraticEstimation()\n",
        "QE.quadratic_prediction(1, 1, 0.01, 0)"
      ],
      "metadata": {
        "colab": {
          "base_uri": "https://localhost:8080/"
        },
        "id": "93a7ix5epMM0",
        "outputId": "fddd4d7f-b39e-43c8-ab7c-7cd0efffa1cb"
      },
      "execution_count": 13,
      "outputs": [
        {
          "output_type": "stream",
          "name": "stdout",
          "text": [
            "The predicited minimum value is: 3\n"
          ]
        }
      ]
    }
  ]
}