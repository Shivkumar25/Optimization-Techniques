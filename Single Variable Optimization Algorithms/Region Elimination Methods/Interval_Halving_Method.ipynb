{
  "nbformat": 4,
  "nbformat_minor": 0,
  "metadata": {
    "colab": {
      "provenance": []
    },
    "kernelspec": {
      "name": "python3",
      "display_name": "Python 3"
    },
    "language_info": {
      "name": "python"
    }
  },
  "cells": [
    {
      "cell_type": "markdown",
      "source": [
        "# **Importing Libraries**"
      ],
      "metadata": {
        "id": "52S-MVqxpgf1"
      }
    },
    {
      "cell_type": "code",
      "execution_count": 1,
      "metadata": {
        "id": "UIoKc88ppEVP"
      },
      "outputs": [],
      "source": [
        "import numpy as np\n",
        "import matplotlib.pyplot as plt\n",
        "import torch as tch"
      ]
    },
    {
      "cell_type": "markdown",
      "source": [
        "## **Interval Halving Method**"
      ],
      "metadata": {
        "id": "wrz0B42DpkHJ"
      }
    },
    {
      "cell_type": "code",
      "source": [
        "class IntervalHalving:\n",
        "\n",
        "  def interval_function(self, x):\n",
        "    #y = np.sum(np.square(x))\n",
        "    #y = (x*x) + 54/x\n",
        "    y = ((pow(x,4)) - (5*pow(x,3)) + (2*np.exp(x)) - (5*np.cos(3*x)))\n",
        "    #y = (648/pow(x,2)) + (pow(x,3))\n",
        "    return y\n",
        "\n",
        "  def interval_prediction(self, a, b, e):\n",
        "    range = np.arange(a, b+1)\n",
        "    print(range.shape)\n",
        "    L = b - a\n",
        "    t = 0\n",
        "    while (abs(L)>e):                                                                 # Use t for iteration and abs(L)>e for termination parameter\n",
        "      xm = (a+b)/2\n",
        "      ym = self.interval_function(xm)\n",
        "      x1 = a + (L/4)\n",
        "      x2 = b - (L/4)\n",
        "      y1 = self.interval_function(x1)\n",
        "      y2 = self.interval_function(x2)\n",
        "\n",
        "      if (y1<ym):\n",
        "        b = xm\n",
        "        xm = x1\n",
        "        \n",
        "      elif (y2<ym):\n",
        "        a = xm\n",
        "        xm = x2  \n",
        "        \n",
        "      else:\n",
        "        a = x1\n",
        "        b = x2\n",
        "\n",
        "      L = b - a\n",
        "      t += 1\n",
        "    plt.plot(range, self.interval_function(range))\n",
        "    print(self.interval_function(range).shape)\n",
        "    plt.xlabel('x ---->')\n",
        "    plt.ylabel('f(x) ---->')\n",
        "    plt.show()\n",
        "    print('New Minimum is in the interval:',a,'and', b)"
      ],
      "metadata": {
        "id": "k6Vj11ZKpKr9"
      },
      "execution_count": 6,
      "outputs": []
    },
    {
      "cell_type": "code",
      "source": [
        "IH = IntervalHalving()\n",
        "IH.interval_prediction(1, 5, 0)      # Set e = 0 when iteration t is given"
      ],
      "metadata": {
        "colab": {
          "base_uri": "https://localhost:8080/",
          "height": 331
        },
        "id": "93a7ix5epMM0",
        "outputId": "a1c9d0eb-81ce-4704-b1a1-f98ed4ae1165"
      },
      "execution_count": 7,
      "outputs": [
        {
          "output_type": "stream",
          "name": "stdout",
          "text": [
            "(5,)\n",
            "(5,)\n"
          ]
        },
        {
          "output_type": "display_data",
          "data": {
            "text/plain": [
              "<Figure size 432x288 with 1 Axes>"
            ],
            "image/png": "[encoded data removed]"
          },
          "metadata": {
            "needs_background": "light"
          }
        },
        {
          "output_type": "stream",
          "name": "stdout",
          "text": [
            "New Minimum is in the interval: 2.3408254757523537 and 2.3408254757523537\n"
          ]
        }
      ]
    }
  ]
}