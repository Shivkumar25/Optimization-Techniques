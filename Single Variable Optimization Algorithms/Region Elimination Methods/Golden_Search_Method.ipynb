{
  "nbformat": 4,
  "nbformat_minor": 0,
  "metadata": {
    "colab": {
      "provenance": []
    },
    "kernelspec": {
      "name": "python3",
      "display_name": "Python 3"
    },
    "language_info": {
      "name": "python"
    }
  },
  "cells": [
    {
      "cell_type": "markdown",
      "source": [
        "# **Importing Libraries**"
      ],
      "metadata": {
        "id": "52S-MVqxpgf1"
      }
    },
    {
      "cell_type": "code",
      "execution_count": 1,
      "metadata": {
        "id": "UIoKc88ppEVP"
      },
      "outputs": [],
      "source": [
        "import numpy as np\n",
        "import matplotlib.pyplot as plt\n",
        "import torch as tch"
      ]
    },
    {
      "cell_type": "markdown",
      "source": [
        "## **Golden Search Method**"
      ],
      "metadata": {
        "id": "wrz0B42DpkHJ"
      }
    },
    {
      "cell_type": "code",
      "source": [
        "class GoldenSearch:\n",
        "\n",
        "  def golden_function(self, a, b, w):\n",
        "    z = (b-a)*w + a\n",
        "    y = (z*z) + 54/z\n",
        "    #y = pow(z,4) - 5*pow(z,3) + 2*np.exp(z) - 5*np.cos(3*z)         #Normailzed function\n",
        "    return y\n",
        "\n",
        "  def just_function(self, x):\n",
        "    y = (x*x) + 54/x\n",
        "    #y = pow(x,4) - 5*pow(x,3) + 2*np.exp(x) - 5*np.cos(3*x)\n",
        "    return y\n",
        "  \n",
        "  def rev_function(self, a, b, x):\n",
        "    w = (b-a)*x + a\n",
        "    return w\n",
        "  \n",
        "  def golden_prediction(self, a, b, k, e=0):\n",
        "    range = np.arange(a, b+1)\n",
        "    t = 0\n",
        "    a_temp = a\n",
        "    b_temp = b\n",
        "    aw = (a_temp - a)/(b - a)\n",
        "    bw = (b_temp - a)/(b - a)\n",
        "    Lw = bw - aw\n",
        "    \n",
        "    while (t<=3):                                                  # Use abs(Lw)>e when termination parameter e is given\n",
        "      Lw = bw - aw\n",
        "      w1 = aw + 0.618*Lw\n",
        "      w2 = bw - 0.618*Lw\n",
        "\n",
        "      Fw1 = self.golden_function(a, b, w1)\n",
        "      Fw2 = self.golden_function(a, b, w2)\n",
        "\n",
        "      if (Fw1>Fw2):\n",
        "        bw = w1\n",
        "      elif (Fw1<Fw2):\n",
        "        aw = w2\n",
        "      k += 1\n",
        "      t += 1\n",
        "      a_final = self.rev_function(a, b, aw)\n",
        "      b_final = self.rev_function(a, b, bw)\n",
        "\n",
        "    plt.plot(range, self.just_function(range))\n",
        "    plt.xlabel('x ---->')\n",
        "    plt.ylabel('f(x) ---->')\n",
        "    plt.show()\n",
        "    print('New Minimum is in the interval:',a_final,'and', b_final)"
      ],
      "metadata": {
        "id": "k6Vj11ZKpKr9"
      },
      "execution_count": 10,
      "outputs": []
    },
    {
      "cell_type": "code",
      "source": [
        "GS = GoldenSearch()\n",
        "GS.golden_prediction(0,5,0,0)"
      ],
      "metadata": {
        "colab": {
          "base_uri": "https://localhost:8080/",
          "height": 331
        },
        "id": "93a7ix5epMM0",
        "outputId": "14b172e9-5077-454a-f303-15455fcbcdfb"
      },
      "execution_count": 11,
      "outputs": [
        {
          "output_type": "stream",
          "name": "stderr",
          "text": [
            "<ipython-input-10-36fce3d85c81>:10: RuntimeWarning: divide by zero encountered in true_divide\n",
            "  y = (x*x) + 54/x\n"
          ]
        },
        {
          "output_type": "display_data",
          "data": {
            "text/plain": [
              "<Figure size 432x288 with 1 Axes>"
            ],
            "image/png": "[encoded data removed]"
          },
          "metadata": {
            "needs_background": "light"
          }
        },
        {
          "output_type": "stream",
          "name": "stdout",
          "text": [
            "New Minimum is in the interval: 2.63947484 and 3.36880454888\n"
          ]
        }
      ]
    }
  ]
}